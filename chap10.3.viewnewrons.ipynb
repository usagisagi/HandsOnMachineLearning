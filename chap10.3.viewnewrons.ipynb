{
 "cells": [
  {
   "cell_type": "code",
   "execution_count": 1,
   "metadata": {},
   "outputs": [],
   "source": [
    "print('PyDev console: using IPython 6.4.0\\n')\n",
    "\n",
    "import sys; print('Python %s on %s' % (sys.version, sys.platform))\n",
    "sys.path.extend(['/home/usagisagi/HandsOnMachineLearning'])"
   ]
  },
  {
   "cell_type": "code",
   "execution_count": 2,
   "metadata": {},
   "outputs": [],
   "source": [
    "import tensorflow as tf\n",
    "\n",
    "# グラフ構造import\n",
    "saver = tf.train.import_meta_graph('models/my_model_final.ckpt.meta')\n",
    "\n",
    "# sessionにグラフ構造をrestore\n",
    "sess = tf.Session()\n",
    "saver.restore(sess, 'models/my_model_final.ckpt')\n",
    "\n",
    "# variablesのリストを取得\n",
    "tvars = tf.trainable_variables()"
   ]
  },
  {
   "cell_type": "code",
   "execution_count": 3,
   "metadata": {},
   "outputs": [],
   "source": [
    "kernels_vars = sess.run([tvars[i] for i in [0,2,4]])"
   ]
  },
  {
   "cell_type": "code",
   "execution_count": 4,
   "metadata": {},
   "outputs": [],
   "source": [
    "kernels_vars"
   ]
  },
  {
   "cell_type": "code",
   "execution_count": 5,
   "metadata": {},
   "outputs": [],
   "source": [
    "fig, ax = plt.subplots(8, 8, figsize=(8,8))\n",
    "for i, axi in enumerate(ax.flat):\n",
    "    axi.imshow(kernel_vers[0][:, i].reshape((4,-1)), cmap='binary')\n",
    "    axi.set(xticks=[], yticks=[])"
   ]
  },
  {
   "cell_type": "code",
   "execution_count": 6,
   "metadata": {},
   "outputs": [],
   "source": [
    "import matplotlib.pyplot as plt\n",
    "fig, ax = plt.subplots(8, 8, figsize=(8,8))\n",
    "for i, axi in enumerate(ax.flat):\n",
    "    axi.imshow(kernel_vers[0][:, i].reshape((4,-1)), cmap='binary')\n",
    "    axi.set(xticks=[], yticks=[])"
   ]
  },
  {
   "cell_type": "code",
   "execution_count": 7,
   "metadata": {},
   "outputs": [],
   "source": [
    "import matplotlib.pyplot as plt\n",
    "fig, ax = plt.subplots(8, 8, figsize=(8,8))\n",
    "for i, axi in enumerate(ax.flat):\n",
    "    axi.imshow(kernel_vars[0][:, i].reshape((4,-1)), cmap='binary')\n",
    "    axi.set(xticks=[], yticks=[])"
   ]
  },
  {
   "cell_type": "code",
   "execution_count": 8,
   "metadata": {},
   "outputs": [],
   "source": [
    "import matplotlib.pyplot as plt\n",
    "fig, ax = plt.subplots(8, 8, figsize=(8,8))\n",
    "for i, axi in enumerate(ax.flat):\n",
    "    axi.imshow(kernels_vars[0][:, i].reshape((4,-1)), cmap='binary')\n",
    "    axi.set(xticks=[], yticks=[])"
   ]
  },
  {
   "cell_type": "code",
   "execution_count": 9,
   "metadata": {},
   "outputs": [],
   "source": [
    "import matplotlib.pyplot as plt\n",
    "fig, ax = plt.subplots(8, 8, figsize=(8,8))\n",
    "for i, axi in enumerate(ax.flat):\n",
    "    axi.imshow(kernels_vars[0][:, i].reshape((28,28)), cmap='binary')\n",
    "    axi.set(xticks=[], yticks=[])"
   ]
  },
  {
   "cell_type": "code",
   "execution_count": 10,
   "metadata": {},
   "outputs": [],
   "source": [
    "import matplotlib.pyplot as plt\n",
    "fig, ax = plt.subplots(8, 8, figsize=(8,8))\n",
    "for i, axi in enumerate(ax.flat):\n",
    "    axi.imshow(kernels_vars[1][:, i].reshape((28,28)), cmap='binary')\n",
    "    axi.set(xticks=[], yticks=[])"
   ]
  },
  {
   "cell_type": "code",
   "execution_count": 11,
   "metadata": {},
   "outputs": [],
   "source": [
    "import matplotlib.pyplot as plt\n",
    "fig, ax = plt.subplots(8, 8, figsize=(8,8))\n",
    "for i, axi in enumerate(ax.flat):\n",
    "    axi.imshow(kernels_vars[2][:, i].reshape((28,28)), cmap='binary')\n",
    "    axi.set(xticks=[], yticks=[])"
   ]
  },
  {
   "cell_type": "code",
   "execution_count": 12,
   "metadata": {},
   "outputs": [],
   "source": [
    "import matplotlib.pyplot as plt\n",
    "fig, ax = plt.subplots(8, 8, figsize=(8,8))\n",
    "for i, axi in enumerate(ax.flat):\n",
    "    axi.imshow(kernels_vars[0][:, i].reshape((28,28)), cmap='binary')\n",
    "    axi.set(xticks=[], yticks=[])"
   ]
  }
 ],
 "metadata": {},
 "nbformat": 4,
 "nbformat_minor": 2
}
